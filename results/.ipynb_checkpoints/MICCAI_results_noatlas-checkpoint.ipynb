{
 "cells": [
  {
   "cell_type": "markdown",
   "metadata": {},
   "source": [
    "# MICCCAI 2012 \n",
    "\n",
    "Results without using atlas"
   ]
  },
  {
   "cell_type": "code",
   "execution_count": 100,
   "metadata": {
    "collapsed": true
   },
   "outputs": [],
   "source": [
    "from evaluate_miccai_masks import *"
   ]
  },
  {
   "cell_type": "markdown",
   "metadata": {},
   "source": [
    "Define the options for the current experiment"
   ]
  },
  {
   "cell_type": "code",
   "execution_count": 13,
   "metadata": {
    "collapsed": true
   },
   "outputs": [],
   "source": [
    "# define options\n",
    "options  = {}\n",
    "options['model'] = 'miccai_32_cascade_noatlas'       \n",
    "options['folder'] = '/mnt/DATA/w/CNN_CORT/images/MICCAI2012/test_set'\n",
    "options['structs'] = ['Thalamus R', 'Thalamus L', 'Caudate R', 'Caudate L', 'Putament R', 'Putamen L', 'Pallidum R', 'Pallidum L', 'Hipo R', 'Hipo L', 'Amig R', 'Amig L', 'Acc R', 'Acc L']"
   ]
  },
  {
   "cell_type": "markdown",
   "metadata": {},
   "source": [
    "## Maximum probability experiments\n",
    "\n",
    "Segmentation images where classes were computed using the maximum probability between classes\n",
    "\n",
    "- 1 iteration\n",
    "- Cascade "
   ]
  },
  {
   "cell_type": "code",
   "execution_count": 73,
   "metadata": {
    "collapsed": false
   },
   "outputs": [],
   "source": [
    "segmentation_it1 = 'SEG_it1_maxprob.nii.gz'\n",
    "segmentation_cascade = 'SEG_cascade_maxprob.nii.gz'\n",
    "reference = 'gt_15_classes.nii.gz'\n",
    "\n",
    "res_it1 = compute_stats_for_all_scans(options, segmentation_it1, reference)\n",
    "res_cascade = compute_stats_for_all_scans(options, segmentation_cascade, reference)"
   ]
  },
  {
   "cell_type": "code",
   "execution_count": null,
   "metadata": {
    "collapsed": true
   },
   "outputs": [],
   "source": [
    "dsc_it1 = np.array([item.values()[0][0] for item in res_it1])\n",
    "hd_it1 = np.array([item.values()[0][1] for item in res_it1])\n",
    "dsc_cascade = np.array([item.values()[0][0] for item in res_cascade])\n",
    "hd_cascade = np.array([item.values()[0][1] for item in res_cascade])\n"
   ]
  },
  {
   "cell_type": "markdown",
   "metadata": {},
   "source": [
    "Compute the best accuracy for different thresholds:"
   ]
  },
  {
   "cell_type": "code",
   "execution_count": 101,
   "metadata": {
    "collapsed": false
   },
   "outputs": [
    {
     "ename": "TypeError",
     "evalue": "compute_stats_by_threshold() got an unexpected keyword argument 'num_cores'",
     "output_type": "error",
     "traceback": [
      "\u001b[0;31m---------------------------------------------------------------------------\u001b[0m",
      "\u001b[0;31mTypeError\u001b[0m                                 Traceback (most recent call last)",
      "\u001b[0;32m<ipython-input-101-e0e87e244189>\u001b[0m in \u001b[0;36m<module>\u001b[0;34m()\u001b[0m\n\u001b[1;32m      1\u001b[0m \u001b[0msegmentation_it1\u001b[0m \u001b[0;34m=\u001b[0m \u001b[0;34m'SEG_it1'\u001b[0m\u001b[0;34m\u001b[0m\u001b[0m\n\u001b[1;32m      2\u001b[0m \u001b[0mreference\u001b[0m \u001b[0;34m=\u001b[0m \u001b[0;34m'gt_15_classes.nii.gz'\u001b[0m\u001b[0;34m\u001b[0m\u001b[0m\n\u001b[0;32m----> 3\u001b[0;31m \u001b[0mcompute_stats_by_threshold\u001b[0m\u001b[0;34m(\u001b[0m\u001b[0moptions\u001b[0m\u001b[0;34m,\u001b[0m \u001b[0msegmentation_it1\u001b[0m\u001b[0;34m,\u001b[0m \u001b[0mreference\u001b[0m\u001b[0;34m,\u001b[0m \u001b[0moptions\u001b[0m\u001b[0;34m,\u001b[0m \u001b[0mnum_cores\u001b[0m \u001b[0;34m=\u001b[0m \u001b[0;36m8\u001b[0m\u001b[0;34m)\u001b[0m\u001b[0;34m\u001b[0m\u001b[0m\n\u001b[0m",
      "\u001b[0;31mTypeError\u001b[0m: compute_stats_by_threshold() got an unexpected keyword argument 'num_cores'"
     ]
    }
   ],
   "source": [
    "segmentation_it1 = 'SEG_it1'\n",
    "reference = 'gt_15_classes.nii.gz'\n",
    "th_list = np.arange(0.1, 0.95, 0.05)\n",
    "compute_stats_by_threshold(options, segmentation_it1, reference, options, num_cores = 8)"
   ]
  },
  {
   "cell_type": "markdown",
   "metadata": {},
   "source": [
    "Plot tables with mean values for each of the evaluated structs "
   ]
  },
  {
   "cell_type": "code",
   "execution_count": 93,
   "metadata": {
    "collapsed": false
   },
   "outputs": [
    {
     "name": "stdout",
     "output_type": "stream",
     "text": [
      "| struct | DSC (it1) | HD (it1) | DSC (cascade) | HD (cascade)|\n",
      "|  Thalamus R | 0.86 ( 0.01 ) | 0.31 ( 0.04 ) | 0.83 ( 0.02 ) | 0.42 ( 0.08 )\n",
      "|  Thalamus L | 0.87 ( 0.02 ) | 0.25 ( 0.06 ) | 0.84 ( 0.02 ) | 0.40 ( 0.07 )\n",
      "|  Caudate R | 0.80 ( 0.09 ) | 0.78 ( 1.87 ) | 0.81 ( 0.08 ) | 0.78 ( 1.86 )\n",
      "|  Caudate L | 0.81 ( 0.11 ) | 0.54 ( 0.96 ) | 0.81 ( 0.11 ) | 0.54 ( 0.80 )\n",
      "|  Putament R | 0.84 ( 0.04 ) | 0.40 ( 0.40 ) | 0.87 ( 0.02 ) | 0.25 ( 0.05 )\n",
      "|  Putamen L | 0.84 ( 0.03 ) | 0.32 ( 0.06 ) | 0.87 ( 0.03 ) | 0.25 ( 0.05 )\n",
      "|  Pallidum R | 0.75 ( 0.05 ) | 0.53 ( 0.22 ) | 0.80 ( 0.06 ) | 0.41 ( 0.27 )\n",
      "|  Pallidum L | 0.73 ( 0.05 ) | 0.56 ( 0.12 ) | 0.81 ( 0.05 ) | 0.33 ( 0.10 )\n",
      "|  Hipo R | 0.78 ( 0.03 ) | 0.52 ( 0.18 ) | 0.79 ( 0.03 ) | 0.47 ( 0.15 )\n",
      "|  Hipo L | 0.80 ( 0.03 ) | 0.41 ( 0.09 ) | 0.80 ( 0.03 ) | 0.44 ( 0.09 )\n",
      "|  Amig R | 0.74 ( 0.04 ) | 0.48 ( 0.13 ) | 0.79 ( 0.04 ) | 0.35 ( 0.09 )\n",
      "|  Amig L | 0.73 ( 0.06 ) | 0.56 ( 0.16 ) | 0.77 ( 0.05 ) | 0.43 ( 0.14 )\n",
      "|  Acc R | 0.70 ( 0.06 ) | 0.56 ( 0.15 ) | 0.71 ( 0.06 ) | 0.55 ( 0.17 )\n",
      "|  Acc L | 0.66 ( 0.09 ) | 0.65 ( 0.21 ) | 0.68 ( 0.09 ) | 0.58 ( 0.20 )\n",
      "| mean  | 0.78  ( 0.05 ) | 0.49  ( 0.33 ) | 0.80  ( 0.05 ) | 0.44  ( 0.29 )\n"
     ]
    }
   ],
   "source": [
    "# plot stats\n",
    "input_stats = np.array([dsc_it1, hd_it1, dsc_cascade, hd_cascade])\n",
    "print \"| struct | DSC (it1) | HD (it1) | DSC (cascade) | HD (cascade)|\"\n",
    "generate_latex_tables(input_stats, options)\n"
   ]
  }
 ],
 "metadata": {
  "kernelspec": {
   "display_name": "Python 2",
   "language": "python",
   "name": "python2"
  },
  "language_info": {
   "codemirror_mode": {
    "name": "ipython",
    "version": 2
   },
   "file_extension": ".py",
   "mimetype": "text/x-python",
   "name": "python",
   "nbconvert_exporter": "python",
   "pygments_lexer": "ipython2",
   "version": "2.7.12"
  }
 },
 "nbformat": 4,
 "nbformat_minor": 1
}
